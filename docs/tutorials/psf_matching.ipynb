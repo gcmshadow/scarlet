{
 "cells": [
  {
   "cell_type": "markdown",
   "metadata": {},
   "source": [
    "# Matching PSF's\n",
    "\n",
    "Because images taken at different times in different bands will have widely varying PSF's, it is often necessary to convolve the images to a common PSF to ensure that every source has the same morphology in each band.\n",
    "One way to solve this problem is to created PSF matched co-adds that are passed to *SCARLET* as input images.\n",
    "The drawback to this solution is that bands with smaller PSFs are likely to have less blending, which is better for constraining their shapes.\n",
    "\n",
    "This tutorial is designed to show how to create a model that uses a different PSF in each band, including showing one way to create difference kernels using *SCARLET* and illustrating why partially deconvolving using difference kernels is the correct way to approach this problem."
   ]
  },
  {
   "cell_type": "code",
   "execution_count": null,
   "metadata": {},
   "outputs": [],
   "source": [
    "# Import Packages and setup\n",
    "import os\n",
    "import logging\n",
    "from astropy.table import Table as ApTable\n",
    "\n",
    "import numpy as np\n",
    "\n",
    "import scarlet\n",
    "import scarlet.display\n",
    "\n",
    "%matplotlib inline\n",
    "import matplotlib\n",
    "import matplotlib.pyplot as plt\n",
    "# use a better colormap and don't interpolate the pixels\n",
    "matplotlib.rc('image', cmap='inferno')\n",
    "matplotlib.rc('image', interpolation='none')"
   ]
  },
  {
   "cell_type": "markdown",
   "metadata": {},
   "source": [
    "## Load and display the sample data"
   ]
  },
  {
   "cell_type": "code",
   "execution_count": null,
   "metadata": {},
   "outputs": [],
   "source": [
    "# Load a real HSC-Cosmos blend with a different PSF in each band\n",
    "datapath = '../../data/real_data/hsc_cosmos'\n",
    "files = os.listdir(datapath)\n",
    "data = np.load(os.path.join(datapath, files[0]))\n",
    "images = data[\"images\"]\n",
    "psfs = data[\"psfs\"]\n",
    "peaks = data[\"peaks\"]\n",
    "weights = data[\"weights\"]\n",
    "\n",
    "# Estimate the background RMS\n",
    "bg_rms = np.sqrt(np.std(images, axis=(1,2))**2 + np.median(images, axis=(1,2))**2)\n",
    "\n",
    "# Use Asinh scaling for the images\n",
    "vmin, vmax = scarlet.display.zscale(images, fraction=.75)\n",
    "norm = scarlet.display.Asinh(Q=50, vmin=vmin, vmax=vmax)\n",
    "    \n",
    "# Map i,r,g -> RGB\n",
    "filter_indices = [3,2,1]\n",
    "# Convert the image to an RGB image\n",
    "img_rgb = scarlet.display.img_to_rgb(images, filter_indices=filter_indices, norm=norm)\n",
    "plt.figure(figsize=(8,8))\n",
    "plt.imshow(img_rgb)\n",
    "for peak in peaks:\n",
    "    plt.plot(peak[0], peak[1], \"rx\", mew=2)\n",
    "plt.show()"
   ]
  },
  {
   "cell_type": "markdown",
   "metadata": {},
   "source": [
    "## No Convolution\n",
    "\n",
    "We first run *SCARLET* without convolving the sources with the PSF in each band.\n",
    "Notice that not all of the sources in our catalog have flux above the noise level, so we do not add those peaks to our list of sources to deblend by catching the `SourceInitError` that is thrown."
   ]
  },
  {
   "cell_type": "code",
   "execution_count": null,
   "metadata": {},
   "outputs": [],
   "source": [
    "sources = []\n",
    "for n,peak in enumerate(peaks):\n",
    "    try:\n",
    "        result = scarlet.ExtendedSource((peak[1], peak[0]), images, bg_rms)\n",
    "        sources.append(result)\n",
    "    except scarlet.source.SourceInitError:\n",
    "        print(\"No flux in peak {0} at {1}\".format(n, peak))\n",
    "blend = scarlet.Blend(sources).set_data(images, bg_rms=bg_rms)\n",
    "blend.fit(100, e_rel=.015)\n",
    "print(\"scarlet ran for {0} iterations\".format(blend.it))"
   ]
  },
  {
   "cell_type": "code",
   "execution_count": null,
   "metadata": {},
   "outputs": [],
   "source": [
    "def display_model_residual(images, blend, norm):\n",
    "    \"\"\"Display the data, model, and residual for a given result\n",
    "    \"\"\"\n",
    "    model = blend.get_model()\n",
    "    residual = images-model\n",
    "    print(\"Data range: {0:.3f} to {1:.3f}\\nresidual range: {2:.3f} to {3:.3f}\\nrms: {4:.3f}\".format(\n",
    "        np.min(images),\n",
    "        np.max(images),\n",
    "        np.min(residual),\n",
    "        np.max(residual),\n",
    "        np.sqrt(np.std(residual)**2+np.mean(residual)**2)\n",
    "    ))\n",
    "    # Create RGB images\n",
    "    img_rgb = scarlet.display.img_to_rgb(images, filter_indices=filter_indices, norm=norm)\n",
    "    model_rgb = scarlet.display.img_to_rgb(model, filter_indices=filter_indices, norm=norm)\n",
    "    residual_norm = scarlet.display.Linear(img=residual)\n",
    "    residual_rgb = scarlet.display.img_to_rgb(residual, filter_indices=filter_indices, norm=residual_norm)\n",
    "\n",
    "    # Show the data, model, and residual\n",
    "    fig = plt.figure(figsize=(15,5))\n",
    "    ax = [fig.add_subplot(1,3,n+1) for n in range(3)]\n",
    "    ax[0].imshow(img_rgb)\n",
    "    ax[0].set_title(\"Data\")\n",
    "    ax[1].imshow(model_rgb)\n",
    "    ax[1].set_title(\"Model\")\n",
    "    ax[2].imshow(residual_rgb)\n",
    "    ax[2].set_title(\"Residual\")\n",
    "    for k,component in enumerate(blend.components):\n",
    "        y,x = component.center\n",
    "        px, py = peaks[k]\n",
    "        ax[0].plot(x, y, \"gx\")\n",
    "        ax[0].plot(px, py, \"rx\")\n",
    "        ax[1].text(x, y, k, color=\"r\")\n",
    "    plt.show()"
   ]
  },
  {
   "cell_type": "markdown",
   "metadata": {},
   "source": [
    "In this particular case the PSFs in each band are not that different, so the model does a decent job matching the data.\n",
    "However, notice the slight color variations in the data, especially green in the brighter object, that are flat in the model.\n",
    "The model also contains spiky fractal-like structures that are unphysical, due to overfitting the noise."
   ]
  },
  {
   "cell_type": "code",
   "execution_count": null,
   "metadata": {},
   "outputs": [],
   "source": [
    "display_model_residual(images, blend, norm)"
   ]
  },
  {
   "cell_type": "markdown",
   "metadata": {},
   "source": [
    "## Full PSF Deconvolution\n",
    "\n",
    "When using a PSF for each band, the morphology (`Source.morph`) for each object is the deconvolved morphology, which is combined with the PSF in each band to reproduce the data.\n",
    "However, full de-convolution in a noisy image is not a well defined operation and in practice often results in unphysical biases in the data.\n",
    "To illustrate this point we first attempt to fully deconvolve the morphology by using the PSF in each band to convolve the sources."
   ]
  },
  {
   "cell_type": "code",
   "execution_count": null,
   "metadata": {},
   "outputs": [],
   "source": [
    "sources = []\n",
    "for n,peak in enumerate(peaks):\n",
    "    try:\n",
    "        result = scarlet.ExtendedSource((peak[1], peak[0]), images, bg_rms, psf=psfs)\n",
    "        sources.append(result)\n",
    "    except:\n",
    "        print(\"No flux in peak {0} at {1}\".format(n, peak))\n",
    "\n",
    "blend_psf = scarlet.Blend(sources).set_data(images, bg_rms=bg_rms)\n",
    "blend_psf.fit(100, e_rel=.015)\n",
    "print(\"scarlet ran for {0} iterations\".format(blend_psf.it))\n",
    "display_model_residual(images, blend_psf, norm)"
   ]
  },
  {
   "cell_type": "markdown",
   "metadata": {},
   "source": [
    "Notice that source 0, which should be roughly spherical, has sharp gradients on the right and left sides. This is not a real physical effect but a consequence of trying to fully deconvolve the image. Similarly, all of the sources have slight rings around them int he residuals, indicating that PSF deconvolution did not work as expected.\n",
    "\n",
    "## Partial PSF Deconvolution\n",
    "\n",
    "Instead of trying to fully deconvolve the images, we can perform a partial convolution by matching each band to a smaller target PSF.\n",
    "A convenience function [psf_match_fit](../psf_match.ipynb#scarlet.psf_match.psf_match_fit) can be used to fit each PSF in the collection of PSFs to a target function, for example a [moffat](../psf_match.ipynb#scarlet.psf_match.moffat), [gaussian](../psf_match.ipynb#scarlet.psf_match.gaussian), or [double gaussian](../psf_match.ipynb#scarlet.psf_match.double_gaussian), and then use the resulting best fit parameters to create a smaller target PSF."
   ]
  },
  {
   "cell_type": "code",
   "execution_count": null,
   "metadata": {},
   "outputs": [],
   "source": [
    "import imp\n",
    "imp.reload(scarlet)\n",
    "import scarlet.psf_match\n",
    "imp.reload(scarlet.psf_match)"
   ]
  },
  {
   "cell_type": "code",
   "execution_count": null,
   "metadata": {},
   "outputs": [],
   "source": [
    "target_psf = scarlet.psf_match.fit_target_psf(psfs, scarlet.psf_match.moffat)\n",
    "plt.imshow(target_psf)"
   ]
  },
  {
   "cell_type": "markdown",
   "metadata": {},
   "source": [
    "### Building the Difference Kernels\n",
    "\n",
    "The most time consuming operation in *SCARLET* is the PSF convolution, where the runtime scales linearly with the number of pixels used in the PSF.\n",
    "So ideally we want the fewest number of pixels in each difference kernal to accurately reporoduce the target PSF.\n",
    "One way this can be done is to use the existing framework of *SCARLET* to simultaneously match the PSF in each band to the same `target_psf` calculated above using the [build_diff_kernels](../psf_match.ipynb#scarlet.psf_match.build_diff_kernels) function.\n",
    "This function basically models each PSF as a source with a fixed SED, so that each PSF only has the SED in it's band turned on.\n",
    "The `target_psf` is used to convolve the \"morphology\" of the difference kernal so that it matches the \"data\", the input PSF in each band, by applying an L0 sparsity penalty to minimize the number of pixels needed in each band.\n",
    "So the resulting `morph` for each \"source\" is the difference kernel in that band."
   ]
  },
  {
   "cell_type": "code",
   "execution_count": null,
   "metadata": {},
   "outputs": [],
   "source": [
    "diff_kernels, psf_blend = scarlet.psf_match.build_diff_kernels(psfs, target_psf)"
   ]
  },
  {
   "cell_type": "markdown",
   "metadata": {},
   "source": [
    "We can compare each psf in `psfs` to the model create when convolving it's `difference_kernel` with `target_psf`"
   ]
  },
  {
   "cell_type": "code",
   "execution_count": null,
   "metadata": {},
   "outputs": [],
   "source": [
    "rgb_map = [3,2,1]\n",
    "model = psf_blend.get_model()\n",
    "for b, component in enumerate(psf_blend.components):\n",
    "    fig = plt.figure(figsize=(15,2.5))\n",
    "    ax = [fig.add_subplot(1,4,n+1) for n in range(4)]\n",
    "    # Display the psf\n",
    "    ax[0].set_title(\"psf\")\n",
    "    _img = ax[0].imshow(psfs[b])\n",
    "    fig.colorbar(_img, ax=ax[0])\n",
    "    # Display the model\n",
    "    ax[1].set_title(\"modeled psf\")\n",
    "    _model = np.ma.array(model[b], mask=model[b]==0)\n",
    "    _img = ax[1].imshow(_model)\n",
    "    fig.colorbar(_img, ax=ax[1])\n",
    "    # Display the difference kernel\n",
    "    ax[2].set_title(\"difference kernel\")\n",
    "    _img = ax[2].imshow(np.ma.array(diff_kernels[b], mask=diff_kernels[b]==0))\n",
    "    fig.colorbar(_img, ax=ax[2])\n",
    "    # Display the residual\n",
    "    ax[3].set_title(\"residual\")\n",
    "    residual = psfs[b]-model[b]\n",
    "    vabs = np.max(np.abs(residual))\n",
    "    _img = ax[3].imshow(residual, vmin=-vabs, vmax=vabs, cmap='seismic')\n",
    "    fig.colorbar(_img, ax=ax[3])\n",
    "    plt.show()"
   ]
  },
  {
   "cell_type": "markdown",
   "metadata": {},
   "source": [
    "Even though the pixels used in the difference kernels is different for each band, the L0 sparsity constraint and relative error ensure that the difference kernels match up to the desired precision.\n",
    "\n",
    "### Deblend using the difference kernels\n",
    "\n",
    "Now we can use the difference kernals as the input `psf` for each [Source](../source.ipynb#scarlet.source.Source)"
   ]
  },
  {
   "cell_type": "code",
   "execution_count": null,
   "metadata": {},
   "outputs": [],
   "source": [
    "sources = []\n",
    "images = data[\"images\"]\n",
    "bg_rms = np.sqrt(np.std(images, axis=(1,2))**2 + np.median(images, axis=(1,2))**2)\n",
    "print(bg_rms)\n",
    "for n,peak in enumerate(peaks):\n",
    "    try:\n",
    "        result = scarlet.ExtendedSource((peak[1], peak[0]), images, bg_rms, psf=diff_kernels)\n",
    "        sources.append(result)\n",
    "    except:\n",
    "        print(\"No flux in peak {0} at {1}\".format(n, peak))\n",
    "\n",
    "blend_diff = scarlet.Blend(sources).set_data(images, bg_rms=bg_rms)\n",
    "blend_diff.fit(100, e_rel=.015)\n",
    "print(\"scarlet ran for {0} iterations\".format(blend_diff.it))"
   ]
  },
  {
   "cell_type": "markdown",
   "metadata": {},
   "source": [
    "When we look at the results we see that the artifacts introduced by full deconvolution have largely vanished, as well as the rings around all of the objects other than the bright central galaxy (source 0). But in this case the red core is an indication that this galaxy should probably be modeled as two components, a redder bulge and bluer disk."
   ]
  },
  {
   "cell_type": "code",
   "execution_count": null,
   "metadata": {},
   "outputs": [],
   "source": [
    "display_model_residual(images, blend_diff, norm)\n",
    "# display the total residual in each band\n",
    "model = blend_diff.get_model()\n",
    "residuals = images-model\n",
    "fig = plt.figure(figsize=(15,10))\n",
    "ax = [fig.add_subplot(2,3,n+1) for n in range(len(model))]\n",
    "for b in range(len(model)):\n",
    "    vabs = np.max(np.abs(residuals[b]))\n",
    "    _img = ax[b].imshow(residuals[b], vmin=-vabs, vmax=vabs, cmap='seismic')\n",
    "    fig.colorbar(_img, ax=ax[b])\n",
    "plt.show()"
   ]
  },
  {
   "cell_type": "markdown",
   "metadata": {},
   "source": [
    "When we compare the results using the different deblending techniques we see the clear advantage to using the difference kernels"
   ]
  },
  {
   "cell_type": "code",
   "execution_count": null,
   "metadata": {
    "scrolled": false
   },
   "outputs": [],
   "source": [
    "for b in range(len(blend_diff.components)):\n",
    "    model = blend[b].get_model()\n",
    "    model_psf = blend_psf[b].get_model()\n",
    "    model_diff = blend_diff[b].get_model()\n",
    "    img = images[blend[(b,0)].bb]\n",
    "    # Create RGB images\n",
    "    vmin, vmax = scarlet.display.zscale(img, fraction=.75)\n",
    "    img_rgb = scarlet.display.img_to_rgb(img, filter_indices=filter_indices, norm=norm)\n",
    "    model_rgb = scarlet.display.img_to_rgb(model, filter_indices=filter_indices, norm=norm)\n",
    "    model_psf_rgb = scarlet.display.img_to_rgb(model_psf, filter_indices=filter_indices, norm=norm)\n",
    "    model_diff_rgb = scarlet.display.img_to_rgb(model_diff, filter_indices=filter_indices, norm=norm)\n",
    "    fig = plt.figure(figsize=(15,4))\n",
    "    ax = [fig.add_subplot(1,4,n+1) for n in range(4)]\n",
    "    ax[0].imshow(img_rgb)\n",
    "    ax[1].imshow(model_rgb)\n",
    "    ax[2].imshow(model_psf_rgb)\n",
    "    ax[3].imshow(model_diff_rgb)\n",
    "    plt.show()"
   ]
  }
 ],
 "metadata": {
  "kernelspec": {
   "display_name": "Python 3",
   "language": "python",
   "name": "python3"
  },
  "language_info": {
   "codemirror_mode": {
    "name": "ipython",
    "version": 3
   },
   "file_extension": ".py",
   "mimetype": "text/x-python",
   "name": "python",
   "nbconvert_exporter": "python",
   "pygments_lexer": "ipython3",
   "version": "3.7.2"
  }
 },
 "nbformat": 4,
 "nbformat_minor": 2
}
